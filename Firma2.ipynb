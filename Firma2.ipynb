{
 "cells": [
  {
   "cell_type": "code",
   "execution_count": 6,
   "metadata": {},
   "outputs": [
    {
     "name": "stdout",
     "output_type": "stream",
     "text": [
      "Status: Optimal\n",
      "DH_w_czwartek = 2.0\n",
      "DH_we_wt = 0.0\n",
      "HB_w_piątek = 3.0\n",
      "HB_w_poniedziałek = 4.0\n",
      "HB_w_środę = 4.0\n",
      "HB_we_wtorek = 5.0\n",
      "KC_w_piątek = 0.0\n",
      "KC_w_poniedziałek = 1.0\n",
      "KC_w_środę = 6.0\n",
      "KS_w_czwartek = 2.0\n",
      "KS_w_poniedziałek = 0.0\n",
      "NK_w_piątek = 2.0\n",
      "NK_we_czwartek = 6.0\n",
      "SC_w_piątek = 5.0\n",
      "SC_w_poniedziałek = 5.0\n",
      "SC_we_wtorek = 5.0\n",
      "Całkowity koszt pracowników =  1172.0\n",
      "Liczba godzin pracy NK = 8.0\n",
      "Liczba godzin pracy DH = 2.0\n",
      "Liczba godzin pracy HB = 16.0\n",
      "Liczba godzin pracy KC = 7.0\n",
      "Liczba godzin pracy KS = 2.0\n",
      "Liczba godzin pracy SC = 15.0\n"
     ]
    }
   ],
   "source": [
    "from pulp import *\n",
    "prob = LpProblem(\"The Problem\",LpMinimize)\n",
    "\n",
    "Employees = ['KC', 'DH', 'HB', 'SC', 'KS', 'NK']\n",
    "\n",
    "monday = {'KC' : 6,\n",
    "          'DH' : 0,\n",
    "          'HB' : 4,\n",
    "          'SC' : 5,\n",
    "          'KS', 'NK'\n",
    "    \n",
    "}\n",
    "\n",
    "KCpon = LpVariable(\"KC w poniedziałek\", lowBound=0, upBound=6, cat = 'Integer')\n",
    "KCsr = LpVariable(\"KC w środę\", lowBound=0, upBound=6, cat = 'Integer')\n",
    "KCpt = LpVariable(\"KC w piątek\", lowBound=0, upBound=6, cat = 'Integer')\n",
    "DHwt = LpVariable(\"DH we wt\", lowBound=0, upBound=6, cat = 'Integer')\n",
    "DHczw = LpVariable(\"DH w czwartek\", lowBound=0, upBound=6, cat = 'Integer')\n",
    "HBpon = LpVariable(\"HB w poniedziałek\", lowBound=0, upBound=4, cat = 'Integer')\n",
    "HBwt = LpVariable(\"HB we wtorek\", lowBound=0, upBound=8, cat = 'Integer')\n",
    "HBsr = LpVariable(\"HB w środę\", lowBound=0, upBound=4, cat = 'Integer')\n",
    "HBpt = LpVariable(\"HB w piątek\", lowBound=0, upBound=4, cat = 'Integer')\n",
    "SCpon = LpVariable(\"SC w poniedziałek\", lowBound=0, upBound=5, cat = 'Integer')\n",
    "SCwt = LpVariable(\"SC we wtorek\", lowBound=0, upBound=5, cat = 'Integer')\n",
    "SCpt = LpVariable(\"SC w piątek\", lowBound=0, upBound=5, cat = 'Integer')\n",
    "KSpon = LpVariable(\"KS w poniedziałek\", lowBound=0, upBound=3, cat = 'Integer')\n",
    "KSczw = LpVariable(\"KS w czwartek\", lowBound=0, upBound=8, cat = 'Integer')\n",
    "NKczw = LpVariable(\"NK we czwartek\", lowBound=0, upBound=6, cat = 'Integer')\n",
    "NKpt = LpVariable(\"NK w piątek\", lowBound=0, upBound=2, cat = 'Integer')\n",
    "\n",
    "# main problem - company's benefit\n",
    "prob += 25*(KCpon+KCsr+KCpt) + 26*(DHwt+DHczw) + 24*(HBpon + HBwt + HBsr + HBpt) + 23*(SCpon + SCwt + SCpt) +28*(KSpon+KSczw) +20*(NKczw + NKpt)\n",
    "#constraints \n",
    "prob += KCpon + HBpon + SCpon + KSpon >= 10\n",
    "prob += DHwt + HBwt + SCwt >= 10\n",
    "prob += KCsr + HBsr >= 10\n",
    "prob += DHczw + KSczw + NKczw >= 10\n",
    "prob += KCpt + HBpt + SCpt + NKpt >= 10\n",
    "prob += KSczw + KSpon >= 2\n",
    "\n",
    "\n",
    "# The problem data is written to an .lp file\n",
    "prob.writeLP(\"TheProblem.lp\")\n",
    "# The problem is solved using PuLP's choice of Solver\n",
    "prob.solve()\n",
    "# The status of the solution is printed to the screen\n",
    "print(\"Status:\", LpStatus[prob.status])\n",
    "# Each of the variables is printed with it's resolved optimum value\n",
    "for v in prob.variables():\n",
    "    print(v.name, \"=\", v.varValue)\n",
    "# The optimised objective function value is printed to the screen\n",
    "print(\"Całkowity koszt pracowników = \", value(prob.objective))\n",
    "print(\"Liczba godzin pracy NK =\", value(NKpt+NKczw))\n",
    "print(\"Liczba godzin pracy DH =\", value(DHwt+DHczw))\n",
    "print(\"Liczba godzin pracy HB =\", value(HBpt+HBsr+HBwt+HBpon))\n",
    "print(\"Liczba godzin pracy KC =\", value(KCpon+KCsr+KCpt))\n",
    "print(\"Liczba godzin pracy KS =\", value(KSpon+KSczw))\n",
    "print(\"Liczba godzin pracy SC =\", value(SCpon+SCwt+SCpt))"
   ]
  },
  {
   "cell_type": "code",
   "execution_count": null,
   "metadata": {},
   "outputs": [],
   "source": []
  }
 ],
 "metadata": {
  "kernelspec": {
   "display_name": "Python 3",
   "language": "python",
   "name": "python3"
  },
  "language_info": {
   "codemirror_mode": {
    "name": "ipython",
    "version": 3
   },
   "file_extension": ".py",
   "mimetype": "text/x-python",
   "name": "python",
   "nbconvert_exporter": "python",
   "pygments_lexer": "ipython3",
   "version": "3.5.2"
  }
 },
 "nbformat": 4,
 "nbformat_minor": 2
}
