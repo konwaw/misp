{
 "cells": [
  {
   "cell_type": "code",
   "execution_count": 1,
   "metadata": {},
   "outputs": [
    {
     "name": "stdout",
     "output_type": "stream",
     "text": [
      "Status: Optimal\n",
      "Krzesla = 10.0\n",
      "Polki = 0.0\n",
      "czas_pracy_inzyniera = 25.0\n",
      "czas_pracy_lakiernika = 15.0\n",
      "czas_pracy_robota = 30.0\n",
      "Total Company's benefit =  333500.0\n"
     ]
    }
   ],
   "source": [
    "from pulp import *\n",
    "prob = LpProblem(\"The Problem\",LpMaximize)\n",
    "\n",
    "nA = LpVariable(\"Krzesla\", lowBound=0, upBound=None, cat = 'Integer')\n",
    "nB = LpVariable(\"Polki\", lowBound=0, upBound=None, cat = 'Integer')\n",
    "tR = LpVariable(\"czas pracy robota\", lowBound=0, upBound=30, cat = 'Integer')\n",
    "tI = LpVariable(\"czas pracy inzyniera\", lowBound=0, upBound=30, cat = 'Integer')\n",
    "tL = LpVariable(\"czas pracy lakiernika\", lowBound=0, upBound=21, cat = 'Integer')\n",
    "\n",
    "# main problem - company's benefit\n",
    "prob += nA*40000 + nB*50000 - (tR*300 + 2*tI*700 + tL*1500)\n",
    "#constraints\n",
    "prob += 1.5*nA + 3*nB <= tL, 'lakiernik'\n",
    "prob += 5*nA + 6*nB <= 2*tI, '2 inżynierów'\n",
    "prob += 3*nA + 4*nB <= tR, 'robot'\n",
    "\n",
    "# The problem data is written to an .lp file\n",
    "prob.writeLP(\"TheProblem.lp\")\n",
    "# The problem is solved using PuLP's choice of Solver\n",
    "prob.solve()\n",
    "# The status of the solution is printed to the screen\n",
    "print(\"Status:\", LpStatus[prob.status])\n",
    "# Each of the variables is printed with it's resolved optimum value\n",
    "for v in prob.variables():\n",
    "    print(v.name, \"=\", v.varValue)\n",
    "# The optimised objective function value is printed to the screen\n",
    "print(\"Total Company's benefit = \", value(prob.objective))"
   ]
  },
  {
   "cell_type": "code",
   "execution_count": null,
   "metadata": {},
   "outputs": [],
   "source": []
  }
 ],
 "metadata": {
  "kernelspec": {
   "display_name": "Python 3",
   "language": "python",
   "name": "python3"
  },
  "language_info": {
   "codemirror_mode": {
    "name": "ipython",
    "version": 3
   },
   "file_extension": ".py",
   "mimetype": "text/x-python",
   "name": "python",
   "nbconvert_exporter": "python",
   "pygments_lexer": "ipython3",
   "version": "3.5.2"
  }
 },
 "nbformat": 4,
 "nbformat_minor": 2
}
