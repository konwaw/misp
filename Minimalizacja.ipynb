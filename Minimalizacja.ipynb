{
 "cells": [
  {
   "cell_type": "code",
   "execution_count": 15,
   "metadata": {},
   "outputs": [
    {
     "name": "stdout",
     "output_type": "stream",
     "text": [
      "Status: Optimal\n",
      "m = 7.1428571\n",
      "x = 0.0\n",
      "y = 0.71428571\n",
      "z = 0.0\n"
     ]
    }
   ],
   "source": [
    "# Import PuLP modeler functions\n",
    "from pulp import *\n",
    "# Create the 'prob' variable to contain the problem data\n",
    "prob = LpProblem(\"Drama\",LpMinimize)\n",
    "\n",
    "x=LpVariable(\"x\",0,10)\n",
    "y=LpVariable(\"y\",-5,10)\n",
    "z=LpVariable(\"z\",0,10)\n",
    "m=LpVariable(\"m\") \n",
    "\n",
    "prob += 1*m, \"glowny problem\"\n",
    "\n",
    "prob += 2*x+3*y+4*z +5 <=m, \"funkcja 1\"\n",
    "prob += 3*x-4*y+3*z +10 <=m, \"funkcja 2\"\n",
    "prob += 10*x -7 <=m, \"funkcja 3\"\n",
    "\n",
    "\n",
    "prob.writeLP(\"Drama.lp\")\n",
    "\n",
    "prob.solve()\n",
    "\n",
    "print(\"Status:\", LpStatus[prob.status])\n",
    "\n",
    "for v in prob.variables():\n",
    "    print(v.name, \"=\", v.varValue)\n",
    "\n"
   ]
  },
  {
   "cell_type": "code",
   "execution_count": null,
   "metadata": {},
   "outputs": [],
   "source": []
  }
 ],
 "metadata": {
  "kernelspec": {
   "display_name": "Python 3",
   "language": "python",
   "name": "python3"
  },
  "language_info": {
   "codemirror_mode": {
    "name": "ipython",
    "version": 3
   },
   "file_extension": ".py",
   "mimetype": "text/x-python",
   "name": "python",
   "nbconvert_exporter": "python",
   "pygments_lexer": "ipython3",
   "version": "3.5.2"
  }
 },
 "nbformat": 4,
 "nbformat_minor": 2
}
