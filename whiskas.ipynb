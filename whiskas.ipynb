{
 "cells": [
  {
   "cell_type": "code",
   "execution_count": 16,
   "metadata": {},
   "outputs": [
    {
     "name": "stdout",
     "output_type": "stream",
     "text": [
      "Status: Optimal\n",
      "Beef = 60.0\n",
      "Chicken = 0.0\n",
      "Gel = 40.0\n",
      "Mutton = 0.0\n",
      "Rice = 0.0\n",
      "Wheat = 0.0\n",
      "Total Cost of Ingredients per can =  0.52\n",
      "\n",
      "Sensitivity Analysis\n",
      "\n",
      "        Name\t\tShadow Price\t\tSlack\n",
      "PercentagesSum    0.001             -0.0      \n",
      "ProteinRequirement 0.0               -4.0      \n",
      "FatRequirement    0.07              -0.0      \n",
      "FibreRequirement  0.0               1.7       \n",
      "SaltRequirement   0.0               0.10000000000000003\n"
     ]
    }
   ],
   "source": [
    "\"testowa linijka\"\n",
    "from pulp import *\n",
    "\n",
    "prob = pulp.LpProblem(\"The Whiskas Problem\",LpMinimize)\n",
    "\n",
    "x1=pulp.LpVariable(\"Chicken\",0,None,LpInteger)\n",
    "x2=pulp.LpVariable(\"Beef\",0)\n",
    "x3=pulp.LpVariable(\"Rice\",0)\n",
    "x4=pulp.LpVariable(\"Wheat\",0)\n",
    "x5=pulp.LpVariable(\"Mutton\",0)\n",
    "x6=pulp.LpVariable(\"Gel\",0)\n",
    "\n",
    "\n",
    "prob += 0.013*x1 + 0.008*x2 + 0.002*x3 + 0.005*x4 + 0.010*x5 +0.001*x6, \"Total Cost of Ingredients per can\"\n",
    "\n",
    "\n",
    "prob += x1 + x2 + x3 + x4 + x5 + x6 == 100, \"PercentagesSum\"\n",
    "prob += 0.100*x1 + 0.200*x2 + 0.000*x3 + 0.040*x4 + 0.150*x5 + 0.000*x6 >= 8.0, \"ProteinRequirement\"\n",
    "prob += 0.080*x1 + 0.100*x2 + 0.010*x3 + 0.010*x4 + 0.110*x5 + 0.000*x6 >= 6.0, \"FatRequirement\"\n",
    "prob += 0.001*x1 + 0.005*x2 + 0.100*x3 + 0.015*x4 + 0.003*x5 + 0.000*x6 <= 2.0, \"FibreRequirement\"\n",
    "prob += 0.002*x1 + 0.005*x2 + 0.002*x3 + 0.008*x4 + 0.007*x5 + 0.000*x6 <= 0.4, \"SaltRequirement\"\n",
    "\n",
    "\n",
    "prob.writeLP(\"WhiskasModel.lp\")\n",
    "# The problem is solved using PuLP's choice of Solver\n",
    "prob.solve()\n",
    "# The status of the solution is printed to the screen\n",
    "print(\"Status:\", LpStatus[prob.status])\n",
    "# Each of the variables is printed with it's resolved optimum value\n",
    "for v in prob.variables():\n",
    "    print(v.name, \"=\", v.varValue)\n",
    "\n",
    "# The optimised objective function value is printed to the screen\n",
    "print(\"Total Cost of Ingredients per can = \", value(prob.objective))\n",
    "print(\"\"\"\\nSensitivity Analysis\\n\n",
    "        Name\\t\\tShadow Price\\t\\tSlack\"\"\")\n",
    "for name, c in prob.constraints.items():\n",
    "    print(str(name).ljust(17),  str(c.pi).ljust(17), str(c.slack).ljust(10))"
   ]
  },
  {
   "cell_type": "code",
   "execution_count": null,
   "metadata": {},
   "outputs": [],
   "source": []
  },
  {
   "cell_type": "code",
   "execution_count": null,
   "metadata": {},
   "outputs": [],
   "source": []
  },
  {
   "cell_type": "code",
   "execution_count": null,
   "metadata": {},
   "outputs": [],
   "source": []
  }
 ],
 "metadata": {
  "kernelspec": {
   "display_name": "Python 3",
   "language": "python",
   "name": "python3"
  },
  "language_info": {
   "codemirror_mode": {
    "name": "ipython",
    "version": 3
   },
   "file_extension": ".py",
   "mimetype": "text/x-python",
   "name": "python",
   "nbconvert_exporter": "python",
   "pygments_lexer": "ipython3",
   "version": "3.5.2"
  }
 },
 "nbformat": 4,
 "nbformat_minor": 2
}
